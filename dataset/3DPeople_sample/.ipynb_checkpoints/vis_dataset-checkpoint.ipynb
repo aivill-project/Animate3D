{
 "cells": [
  {
   "cell_type": "markdown",
   "metadata": {},
   "source": [
    "## Requirements:\n",
    "```\n",
    "conda create -n 3dpeople\n",
    "source activate 3dpeople\n",
    "conda install matplotlib opencv pillow scipy\n",
    "conda install -c conda-forge ipywidgets=7.2.1\n",
    "conda install -c plotly chart-studio\n",
    "```\n"
   ]
  },
  {
   "cell_type": "markdown",
   "metadata": {},
   "source": [
    "## Select Sequence to Visualize:"
   ]
  },
  {
   "cell_type": "code",
   "execution_count": 1,
   "metadata": {},
   "outputs": [],
   "source": [
    "import numpy as np\n",
    "from PIL import Image\n",
    "from IPython.display import display\n",
    "import scipy.io\n",
    "from scipy.interpolate import interp2d\n",
    "from ipywidgets import interact, widgets\n",
    "import matplotlib.pyplot as plt\n",
    "import matplotlib.cm as colors\n",
    "from plotly.offline import init_notebook_mode, iplot\n",
    "import plotly.graph_objects as go\n",
    "import os\n",
    "import glob\n",
    "import gc\n",
    "import cv2\n",
    "\n",
    "%matplotlib inline\n",
    "\n",
    "seq_name = 'woman17/02_04_jump'"
   ]
  },
  {
   "cell_type": "markdown",
   "metadata": {},
   "source": [
    "# Display Utils"
   ]
  },
  {
   "cell_type": "code",
   "execution_count": 2,
   "metadata": {},
   "outputs": [],
   "source": [
    "def display_imgs(imgs, title, cmap):\n",
    "    num_cameras = len(imgs)\n",
    "    def display_frame(frame_id):\n",
    "        fig, axs = plt.subplots(1, num_cameras, figsize=(24,16))\n",
    "        for camera_id in range(num_cameras):\n",
    "            img = imgs[camera_id][frame_id]\n",
    "            axs[camera_id].imshow(img, cmap=cmap)\n",
    "            axs[camera_id].set_title(f'Camera {camera_id+1}',fontsize=20)\n",
    "        axs[0].set_ylabel(title,fontsize=30)\n",
    "    return display_frame\n",
    "\n",
    "def generate_img_skeleton2d(orig_imgs, skeletons):\n",
    "    if orig_imgs is None or skeletons is None:\n",
    "        return None\n",
    "    joints = skeletons[...,:2]\n",
    "    num_cams, num_frames, num_joints, _ = joints.shape\n",
    "    imgs = orig_imgs.copy()\n",
    "    color_map = colors.get_cmap('Spectral')\n",
    "    for camera_id in range(num_cams):\n",
    "        for frame_id in range(num_frames):\n",
    "            img = imgs[camera_id, frame_id, ...]\n",
    "            for joint_id in range(num_joints):\n",
    "                joint = tuple(joints[camera_id, frame_id, joint_id].astype(int))\n",
    "                img = cv2.circle(img, joint, 2, np.array(color_map(joint_id/num_joints))*255, 2)\n",
    "    return imgs\n",
    "\n",
    "def display_skeleton3d(skeletons, camera_id, frame_id):\n",
    "    init_notebook_mode(connected=True) \n",
    "    fig = go.Scatter3d(x=skeletons[camera_id, frame_id, :, -3], \n",
    "                       y=skeletons[camera_id, frame_id, :, -2], \n",
    "                       z=skeletons[camera_id, frame_id, :, -1],\n",
    "                       mode='markers')\n",
    "    data = [fig]\n",
    "    iplot(data) \n",
    "\n",
    "def combine_imgs(img1, img2, alpha=0.5):\n",
    "    if img1 is not None and img2 is not None:\n",
    "        return ((1-alpha) * img1 + alpha * img2).astype(img1.dtype)\n",
    "\n",
    "def interactive_display(imgs, frame_id, title, **kwargs):\n",
    "    if imgs is not None:\n",
    "        kwargs.setdefault(\"cmap\", None)        \n",
    "        display_frame = display_imgs(imgs, title, kwargs[\"cmap\"])\n",
    "        interact(display_frame, frame_id=frame_id)"
   ]
  },
  {
   "cell_type": "markdown",
   "metadata": {},
   "source": [
    "# Read Data Utils"
   ]
  },
  {
   "cell_type": "code",
   "execution_count": 3,
   "metadata": {},
   "outputs": [],
   "source": [
    "def read_samples(cameras_dir, read_f, num_cameras=4):\n",
    "    cameras = []\n",
    "    for camera_id in range(1, num_cameras+1):\n",
    "        camera_path = os.path.join(cameras_dir, f'camera{camera_id:02d}')\n",
    "        camera_data = read_f(camera_path)\n",
    "        if camera_data is None:\n",
    "            return None\n",
    "        cameras.append(np.asarray(camera_data))\n",
    "        gc.collect() \n",
    "    return np.asarray(cameras)\n",
    "\n",
    "def read_rgbs(files_dir):\n",
    "    rgbs_path = os.path.join(files_dir, '*', '*.jpg')\n",
    "    files = glob.glob(rgbs_path)\n",
    "    if files:\n",
    "        return [np.asarray(Image.open(file)) for file in sorted(files)]\n",
    "\n",
    "def read_depths(files_dir):\n",
    "    file = os.path.join(files_dir, 'depth.mat')\n",
    "    if os.path.exists(file):\n",
    "        depth = scipy.io.loadmat(file)\n",
    "        return [v for k, v in sorted(depth.items()) if k.startswith('depth')]\n",
    "\n",
    "def read_normals(files_dir):\n",
    "    file = os.path.join(files_dir, 'normals.mat')\n",
    "    if os.path.exists(file):\n",
    "        normals = scipy.io.loadmat(file)\n",
    "        return [v/2+0.5 for k, v in sorted(normals.items()) if k.startswith('normals')]\n",
    "\n",
    "def read_optical_flow(files_dir):\n",
    "    file = os.path.join(files_dir, 'optical_flow.mat')\n",
    "    if os.path.exists(file):\n",
    "        flow = scipy.io.loadmat(file)\n",
    "        return [v for k, v in sorted(flow.items()) if k.startswith('gtflow')]\n",
    "\n",
    "def read_segmentation(files_dir):\n",
    "    segmentation_path = os.path.join(files_dir,'*.png')\n",
    "    files = glob.glob(segmentation_path)\n",
    "    if files:\n",
    "        return [np.asarray(Image.open(file).convert('RGB')) for file in sorted(files)]\n",
    "\n",
    "def read_skeleton(files_dir):\n",
    "    skeleton_path = os.path.join(files_dir,'*.txt')\n",
    "    files = glob.glob(skeleton_path)\n",
    "    if files:\n",
    "        files.sort()\n",
    "        if os.path.basename(files[0]) == \"0000.txt\":\n",
    "            files = files[1:]\n",
    "        return [np.loadtxt(file) for file in files]"
   ]
  },
  {
   "cell_type": "markdown",
   "metadata": {},
   "source": [
    "# Display"
   ]
  },
  {
   "cell_type": "code",
   "execution_count": 4,
   "metadata": {},
   "outputs": [],
   "source": [
    "# Read data\n",
    "rgbs = read_samples(os.path.join('rgb',seq_name), read_rgbs)\n",
    "depths = read_samples(os.path.join('depth_mat',seq_name), read_depths)\n",
    "normals = read_samples(os.path.join('normals_mat',seq_name), read_normals)\n",
    "flows = read_samples(os.path.join('optical_flow_mat',seq_name), read_optical_flow)\n",
    "seg_body = read_samples(os.path.join('segmentation_body',seq_name), read_segmentation)\n",
    "seg_cloth = read_samples(os.path.join('segmentation_clothes',seq_name), read_segmentation)\n",
    "skeletons = read_samples(os.path.join('skeleton',seq_name), read_skeleton)"
   ]
  },
  {
   "cell_type": "code",
   "execution_count": 11,
   "metadata": {},
   "outputs": [
    {
     "name": "stdout",
     "output_type": "stream",
     "text": [
      "No data found\n"
     ]
    }
   ],
   "source": [
    "# Create Slider\n",
    "try:\n",
    "    num_frames = len(rgbs)\n",
    "    frame_id = widgets.IntSlider(min=0,max=num_frames-1)\n",
    "except TypeError as e:\n",
    "    frame_id = 0\n",
    "    print(\"No data found\")"
   ]
  },
  {
   "cell_type": "code",
   "execution_count": 6,
   "metadata": {
    "scrolled": false
   },
   "outputs": [
    {
     "data": {
      "application/vnd.jupyter.widget-view+json": {
       "model_id": "fd34caba77d04471a014ed28f2dbd36b",
       "version_major": 2,
       "version_minor": 0
      },
      "text/plain": [
       "interactive(children=(IntSlider(value=0, description='frame_id', max=3), Output()), _dom_classes=('widget-inte…"
      ]
     },
     "metadata": {},
     "output_type": "display_data"
    },
    {
     "data": {
      "application/vnd.jupyter.widget-view+json": {
       "model_id": "4cc3761a53b14f3a897e3728e74c02ce",
       "version_major": 2,
       "version_minor": 0
      },
      "text/plain": [
       "interactive(children=(IntSlider(value=0, description='frame_id', max=3), Output()), _dom_classes=('widget-inte…"
      ]
     },
     "metadata": {},
     "output_type": "display_data"
    },
    {
     "data": {
      "application/vnd.jupyter.widget-view+json": {
       "model_id": "6d8edaa950454851adb43cd470fd8d35",
       "version_major": 2,
       "version_minor": 0
      },
      "text/plain": [
       "interactive(children=(IntSlider(value=0, description='frame_id', max=3), Output()), _dom_classes=('widget-inte…"
      ]
     },
     "metadata": {},
     "output_type": "display_data"
    },
    {
     "data": {
      "application/vnd.jupyter.widget-view+json": {
       "model_id": "82f00bfe3b704f3d90ae9e2a194e92ba",
       "version_major": 2,
       "version_minor": 0
      },
      "text/plain": [
       "interactive(children=(IntSlider(value=0, description='frame_id', max=3), Output()), _dom_classes=('widget-inte…"
      ]
     },
     "metadata": {},
     "output_type": "display_data"
    },
    {
     "data": {
      "application/vnd.jupyter.widget-view+json": {
       "model_id": "1b749be5a6c4425c8229b471f87d6320",
       "version_major": 2,
       "version_minor": 0
      },
      "text/plain": [
       "interactive(children=(IntSlider(value=0, description='frame_id', max=3), Output()), _dom_classes=('widget-inte…"
      ]
     },
     "metadata": {},
     "output_type": "display_data"
    },
    {
     "data": {
      "application/vnd.jupyter.widget-view+json": {
       "model_id": "e8cc6bc2544a42c8a62a42c7a82084b5",
       "version_major": 2,
       "version_minor": 0
      },
      "text/plain": [
       "interactive(children=(IntSlider(value=0, description='frame_id', max=3), Output()), _dom_classes=('widget-inte…"
      ]
     },
     "metadata": {},
     "output_type": "display_data"
    },
    {
     "data": {
      "application/vnd.jupyter.widget-view+json": {
       "model_id": "3224218a1a534a99a07c4e9f4a250883",
       "version_major": 2,
       "version_minor": 0
      },
      "text/plain": [
       "interactive(children=(IntSlider(value=0, description='frame_id', max=3), Output()), _dom_classes=('widget-inte…"
      ]
     },
     "metadata": {},
     "output_type": "display_data"
    },
    {
     "data": {
      "application/vnd.jupyter.widget-view+json": {
       "model_id": "17a676f93d364aab9b4c0865efe595d8",
       "version_major": 2,
       "version_minor": 0
      },
      "text/plain": [
       "interactive(children=(IntSlider(value=0, description='frame_id', max=3), Output()), _dom_classes=('widget-inte…"
      ]
     },
     "metadata": {},
     "output_type": "display_data"
    }
   ],
   "source": [
    "flows_u = flows[...,0] if flows is not None else None\n",
    "flows_v = flows[...,1] if flows is not None else None\n",
    "normals_rgb = (normals*255).astype(rgbs.dtype) if normals is not None else None\n",
    "\n",
    "# Display data\n",
    "interactive_display(rgbs, frame_id, \"RGB\")\n",
    "interactive_display(generate_img_skeleton2d(rgbs, skeletons), frame_id, \"Joints\")\n",
    "interactive_display(depths, frame_id, \"Depth\", cmap='gray_r')\n",
    "interactive_display(flows_u, frame_id, \"Optical Flow U\")\n",
    "interactive_display(flows_v, frame_id, \"Optical Flow V\")\n",
    "interactive_display(combine_imgs(rgbs, normals_rgb), frame_id, \"Normals\")\n",
    "interactive_display(combine_imgs(rgbs, seg_body), frame_id, \"Body Segmentation\")\n",
    "interactive_display(combine_imgs(rgbs, seg_cloth), frame_id, \"Cloth Segmentation\")"
   ]
  },
  {
   "cell_type": "code",
   "execution_count": 7,
   "metadata": {},
   "outputs": [
    {
     "data": {
      "text/html": [
       "        <script type=\"text/javascript\">\n",
       "        window.PlotlyConfig = {MathJaxConfig: 'local'};\n",
       "        if (window.MathJax) {MathJax.Hub.Config({SVG: {font: \"STIX-Web\"}});}\n",
       "        if (typeof require !== 'undefined') {\n",
       "        require.undef(\"plotly\");\n",
       "        requirejs.config({\n",
       "            paths: {\n",
       "                'plotly': ['https://cdn.plot.ly/plotly-latest.min']\n",
       "            }\n",
       "        });\n",
       "        require(['plotly'], function(Plotly) {\n",
       "            window._Plotly = Plotly;\n",
       "        });\n",
       "        }\n",
       "        </script>\n",
       "        "
      ]
     },
     "metadata": {},
     "output_type": "display_data"
    },
    {
     "data": {
      "application/vnd.plotly.v1+json": {
       "config": {
        "linkText": "Export to plot.ly",
        "plotlyServerURL": "https://plot.ly",
        "showLink": false
       },
       "data": [
        {
         "mode": "markers",
         "type": "scatter3d",
         "x": [
          6.153219,
          6.167906,
          6.124365,
          6.076445,
          6.047569,
          6.050437,
          5.55717,
          6.194268,
          5.909404,
          6.525204,
          7.601621,
          7.991057,
          7.274458,
          7.026556,
          6.767757,
          6.608637,
          6.45789,
          7.052308,
          7.001959,
          6.957069,
          6.917025,
          7.155454,
          7.112549,
          7.039124,
          6.999399,
          7.220832,
          7.194921,
          7.114051,
          7.07443,
          7.250801,
          7.209026,
          7.147851,
          7.130932,
          5.583147,
          4.542111,
          4.287223,
          4.558865,
          4.559628,
          4.575706,
          4.596231,
          4.583796,
          4.57992,
          4.568944,
          4.606349,
          4.634891,
          4.63313,
          4.634829,
          4.675444,
          4.693964,
          4.734079,
          4.750819,
          4.775474,
          4.790291,
          4.821313,
          5.079157,
          5.22526,
          5.381655,
          7.089455,
          6.809802,
          6.726308,
          6.823116,
          7.100019,
          5.236005,
          5.472801,
          5.594942,
          5.532403,
          5.244875
         ],
         "y": [
          0.018943,
          -0.025945,
          -0.16931,
          -0.342613,
          -0.362063,
          -0.658545,
          -1.362143,
          -1.500028,
          -0.690562,
          -0.383003,
          -0.2561,
          0.096868,
          -2.082882,
          -2.37519,
          -2.668946,
          -2.907076,
          -3.120408,
          -2.938794,
          -3.234374,
          -3.411536,
          -3.596773,
          -2.858712,
          -3.134773,
          -3.358544,
          -3.590484,
          -2.725873,
          -2.944247,
          -3.177974,
          -3.372818,
          -2.528894,
          -2.770123,
          -2.91302,
          -3.066295,
          -0.276515,
          0.075104,
          0.384788,
          -1.802316,
          -2.241998,
          -2.447311,
          -2.594644,
          -2.756393,
          -2.433116,
          -2.640473,
          -2.873155,
          -3.092216,
          -2.574008,
          -2.829834,
          -3.089091,
          -3.328633,
          -2.672868,
          -2.977496,
          -3.165489,
          -3.364742,
          -2.103528,
          -2.420439,
          -2.675536,
          -2.903816,
          0.221196,
          -0.666713,
          0.56953,
          -0.628721,
          -1.591744,
          0.332185,
          -0.730831,
          0.369401,
          -0.838981,
          -1.814133
         ],
         "z": [
          10.003007,
          11.020425,
          12.007993,
          12.912599,
          14.710966,
          15.530602,
          16.284142,
          16.320042,
          17.238766,
          14.16993,
          14.235605,
          11.757773,
          10.211503,
          10.260172,
          10.234882,
          10.167356,
          10.164101,
          9.912082,
          9.67842,
          9.52782,
          9.343624,
          9.70763,
          9.50658,
          9.299407,
          9.109141,
          9.582631,
          9.387867,
          9.1696,
          8.997093,
          9.477865,
          9.260338,
          9.114578,
          8.969986,
          14.134555,
          14.16211,
          11.646082,
          10.000063,
          9.289701,
          9.09613,
          8.957431,
          8.801682,
          9.387747,
          9.207751,
          9.003245,
          8.824156,
          9.511313,
          9.32372,
          9.10329,
          8.927354,
          9.704129,
          9.467343,
          9.317102,
          9.144823,
          10.053045,
          10.026741,
          9.959538,
          9.923346,
          9.297681,
          5.022099,
          0.877642,
          0.031799,
          -0.00512,
          9.330231,
          5.010607,
          0.853548,
          0.079452,
          0.038985
         ]
        }
       ],
       "layout": {
        "template": {
         "data": {
          "bar": [
           {
            "error_x": {
             "color": "#2a3f5f"
            },
            "error_y": {
             "color": "#2a3f5f"
            },
            "marker": {
             "line": {
              "color": "#E5ECF6",
              "width": 0.5
             }
            },
            "type": "bar"
           }
          ],
          "barpolar": [
           {
            "marker": {
             "line": {
              "color": "#E5ECF6",
              "width": 0.5
             }
            },
            "type": "barpolar"
           }
          ],
          "carpet": [
           {
            "aaxis": {
             "endlinecolor": "#2a3f5f",
             "gridcolor": "white",
             "linecolor": "white",
             "minorgridcolor": "white",
             "startlinecolor": "#2a3f5f"
            },
            "baxis": {
             "endlinecolor": "#2a3f5f",
             "gridcolor": "white",
             "linecolor": "white",
             "minorgridcolor": "white",
             "startlinecolor": "#2a3f5f"
            },
            "type": "carpet"
           }
          ],
          "choropleth": [
           {
            "colorbar": {
             "outlinewidth": 0,
             "ticks": ""
            },
            "type": "choropleth"
           }
          ],
          "contour": [
           {
            "colorbar": {
             "outlinewidth": 0,
             "ticks": ""
            },
            "colorscale": [
             [
              0,
              "#0d0887"
             ],
             [
              0.1111111111111111,
              "#46039f"
             ],
             [
              0.2222222222222222,
              "#7201a8"
             ],
             [
              0.3333333333333333,
              "#9c179e"
             ],
             [
              0.4444444444444444,
              "#bd3786"
             ],
             [
              0.5555555555555556,
              "#d8576b"
             ],
             [
              0.6666666666666666,
              "#ed7953"
             ],
             [
              0.7777777777777778,
              "#fb9f3a"
             ],
             [
              0.8888888888888888,
              "#fdca26"
             ],
             [
              1,
              "#f0f921"
             ]
            ],
            "type": "contour"
           }
          ],
          "contourcarpet": [
           {
            "colorbar": {
             "outlinewidth": 0,
             "ticks": ""
            },
            "type": "contourcarpet"
           }
          ],
          "heatmap": [
           {
            "colorbar": {
             "outlinewidth": 0,
             "ticks": ""
            },
            "colorscale": [
             [
              0,
              "#0d0887"
             ],
             [
              0.1111111111111111,
              "#46039f"
             ],
             [
              0.2222222222222222,
              "#7201a8"
             ],
             [
              0.3333333333333333,
              "#9c179e"
             ],
             [
              0.4444444444444444,
              "#bd3786"
             ],
             [
              0.5555555555555556,
              "#d8576b"
             ],
             [
              0.6666666666666666,
              "#ed7953"
             ],
             [
              0.7777777777777778,
              "#fb9f3a"
             ],
             [
              0.8888888888888888,
              "#fdca26"
             ],
             [
              1,
              "#f0f921"
             ]
            ],
            "type": "heatmap"
           }
          ],
          "heatmapgl": [
           {
            "colorbar": {
             "outlinewidth": 0,
             "ticks": ""
            },
            "colorscale": [
             [
              0,
              "#0d0887"
             ],
             [
              0.1111111111111111,
              "#46039f"
             ],
             [
              0.2222222222222222,
              "#7201a8"
             ],
             [
              0.3333333333333333,
              "#9c179e"
             ],
             [
              0.4444444444444444,
              "#bd3786"
             ],
             [
              0.5555555555555556,
              "#d8576b"
             ],
             [
              0.6666666666666666,
              "#ed7953"
             ],
             [
              0.7777777777777778,
              "#fb9f3a"
             ],
             [
              0.8888888888888888,
              "#fdca26"
             ],
             [
              1,
              "#f0f921"
             ]
            ],
            "type": "heatmapgl"
           }
          ],
          "histogram": [
           {
            "marker": {
             "colorbar": {
              "outlinewidth": 0,
              "ticks": ""
             }
            },
            "type": "histogram"
           }
          ],
          "histogram2d": [
           {
            "colorbar": {
             "outlinewidth": 0,
             "ticks": ""
            },
            "colorscale": [
             [
              0,
              "#0d0887"
             ],
             [
              0.1111111111111111,
              "#46039f"
             ],
             [
              0.2222222222222222,
              "#7201a8"
             ],
             [
              0.3333333333333333,
              "#9c179e"
             ],
             [
              0.4444444444444444,
              "#bd3786"
             ],
             [
              0.5555555555555556,
              "#d8576b"
             ],
             [
              0.6666666666666666,
              "#ed7953"
             ],
             [
              0.7777777777777778,
              "#fb9f3a"
             ],
             [
              0.8888888888888888,
              "#fdca26"
             ],
             [
              1,
              "#f0f921"
             ]
            ],
            "type": "histogram2d"
           }
          ],
          "histogram2dcontour": [
           {
            "colorbar": {
             "outlinewidth": 0,
             "ticks": ""
            },
            "colorscale": [
             [
              0,
              "#0d0887"
             ],
             [
              0.1111111111111111,
              "#46039f"
             ],
             [
              0.2222222222222222,
              "#7201a8"
             ],
             [
              0.3333333333333333,
              "#9c179e"
             ],
             [
              0.4444444444444444,
              "#bd3786"
             ],
             [
              0.5555555555555556,
              "#d8576b"
             ],
             [
              0.6666666666666666,
              "#ed7953"
             ],
             [
              0.7777777777777778,
              "#fb9f3a"
             ],
             [
              0.8888888888888888,
              "#fdca26"
             ],
             [
              1,
              "#f0f921"
             ]
            ],
            "type": "histogram2dcontour"
           }
          ],
          "mesh3d": [
           {
            "colorbar": {
             "outlinewidth": 0,
             "ticks": ""
            },
            "type": "mesh3d"
           }
          ],
          "parcoords": [
           {
            "line": {
             "colorbar": {
              "outlinewidth": 0,
              "ticks": ""
             }
            },
            "type": "parcoords"
           }
          ],
          "pie": [
           {
            "automargin": true,
            "type": "pie"
           }
          ],
          "scatter": [
           {
            "marker": {
             "colorbar": {
              "outlinewidth": 0,
              "ticks": ""
             }
            },
            "type": "scatter"
           }
          ],
          "scatter3d": [
           {
            "line": {
             "colorbar": {
              "outlinewidth": 0,
              "ticks": ""
             }
            },
            "marker": {
             "colorbar": {
              "outlinewidth": 0,
              "ticks": ""
             }
            },
            "type": "scatter3d"
           }
          ],
          "scattercarpet": [
           {
            "marker": {
             "colorbar": {
              "outlinewidth": 0,
              "ticks": ""
             }
            },
            "type": "scattercarpet"
           }
          ],
          "scattergeo": [
           {
            "marker": {
             "colorbar": {
              "outlinewidth": 0,
              "ticks": ""
             }
            },
            "type": "scattergeo"
           }
          ],
          "scattergl": [
           {
            "marker": {
             "colorbar": {
              "outlinewidth": 0,
              "ticks": ""
             }
            },
            "type": "scattergl"
           }
          ],
          "scattermapbox": [
           {
            "marker": {
             "colorbar": {
              "outlinewidth": 0,
              "ticks": ""
             }
            },
            "type": "scattermapbox"
           }
          ],
          "scatterpolar": [
           {
            "marker": {
             "colorbar": {
              "outlinewidth": 0,
              "ticks": ""
             }
            },
            "type": "scatterpolar"
           }
          ],
          "scatterpolargl": [
           {
            "marker": {
             "colorbar": {
              "outlinewidth": 0,
              "ticks": ""
             }
            },
            "type": "scatterpolargl"
           }
          ],
          "scatterternary": [
           {
            "marker": {
             "colorbar": {
              "outlinewidth": 0,
              "ticks": ""
             }
            },
            "type": "scatterternary"
           }
          ],
          "surface": [
           {
            "colorbar": {
             "outlinewidth": 0,
             "ticks": ""
            },
            "colorscale": [
             [
              0,
              "#0d0887"
             ],
             [
              0.1111111111111111,
              "#46039f"
             ],
             [
              0.2222222222222222,
              "#7201a8"
             ],
             [
              0.3333333333333333,
              "#9c179e"
             ],
             [
              0.4444444444444444,
              "#bd3786"
             ],
             [
              0.5555555555555556,
              "#d8576b"
             ],
             [
              0.6666666666666666,
              "#ed7953"
             ],
             [
              0.7777777777777778,
              "#fb9f3a"
             ],
             [
              0.8888888888888888,
              "#fdca26"
             ],
             [
              1,
              "#f0f921"
             ]
            ],
            "type": "surface"
           }
          ],
          "table": [
           {
            "cells": {
             "fill": {
              "color": "#EBF0F8"
             },
             "line": {
              "color": "white"
             }
            },
            "header": {
             "fill": {
              "color": "#C8D4E3"
             },
             "line": {
              "color": "white"
             }
            },
            "type": "table"
           }
          ]
         },
         "layout": {
          "annotationdefaults": {
           "arrowcolor": "#2a3f5f",
           "arrowhead": 0,
           "arrowwidth": 1
          },
          "coloraxis": {
           "colorbar": {
            "outlinewidth": 0,
            "ticks": ""
           }
          },
          "colorscale": {
           "diverging": [
            [
             0,
             "#8e0152"
            ],
            [
             0.1,
             "#c51b7d"
            ],
            [
             0.2,
             "#de77ae"
            ],
            [
             0.3,
             "#f1b6da"
            ],
            [
             0.4,
             "#fde0ef"
            ],
            [
             0.5,
             "#f7f7f7"
            ],
            [
             0.6,
             "#e6f5d0"
            ],
            [
             0.7,
             "#b8e186"
            ],
            [
             0.8,
             "#7fbc41"
            ],
            [
             0.9,
             "#4d9221"
            ],
            [
             1,
             "#276419"
            ]
           ],
           "sequential": [
            [
             0,
             "#0d0887"
            ],
            [
             0.1111111111111111,
             "#46039f"
            ],
            [
             0.2222222222222222,
             "#7201a8"
            ],
            [
             0.3333333333333333,
             "#9c179e"
            ],
            [
             0.4444444444444444,
             "#bd3786"
            ],
            [
             0.5555555555555556,
             "#d8576b"
            ],
            [
             0.6666666666666666,
             "#ed7953"
            ],
            [
             0.7777777777777778,
             "#fb9f3a"
            ],
            [
             0.8888888888888888,
             "#fdca26"
            ],
            [
             1,
             "#f0f921"
            ]
           ],
           "sequentialminus": [
            [
             0,
             "#0d0887"
            ],
            [
             0.1111111111111111,
             "#46039f"
            ],
            [
             0.2222222222222222,
             "#7201a8"
            ],
            [
             0.3333333333333333,
             "#9c179e"
            ],
            [
             0.4444444444444444,
             "#bd3786"
            ],
            [
             0.5555555555555556,
             "#d8576b"
            ],
            [
             0.6666666666666666,
             "#ed7953"
            ],
            [
             0.7777777777777778,
             "#fb9f3a"
            ],
            [
             0.8888888888888888,
             "#fdca26"
            ],
            [
             1,
             "#f0f921"
            ]
           ]
          },
          "colorway": [
           "#636efa",
           "#EF553B",
           "#00cc96",
           "#ab63fa",
           "#FFA15A",
           "#19d3f3",
           "#FF6692",
           "#B6E880",
           "#FF97FF",
           "#FECB52"
          ],
          "font": {
           "color": "#2a3f5f"
          },
          "geo": {
           "bgcolor": "white",
           "lakecolor": "white",
           "landcolor": "#E5ECF6",
           "showlakes": true,
           "showland": true,
           "subunitcolor": "white"
          },
          "hoverlabel": {
           "align": "left"
          },
          "hovermode": "closest",
          "mapbox": {
           "style": "light"
          },
          "paper_bgcolor": "white",
          "plot_bgcolor": "#E5ECF6",
          "polar": {
           "angularaxis": {
            "gridcolor": "white",
            "linecolor": "white",
            "ticks": ""
           },
           "bgcolor": "#E5ECF6",
           "radialaxis": {
            "gridcolor": "white",
            "linecolor": "white",
            "ticks": ""
           }
          },
          "scene": {
           "xaxis": {
            "backgroundcolor": "#E5ECF6",
            "gridcolor": "white",
            "gridwidth": 2,
            "linecolor": "white",
            "showbackground": true,
            "ticks": "",
            "zerolinecolor": "white"
           },
           "yaxis": {
            "backgroundcolor": "#E5ECF6",
            "gridcolor": "white",
            "gridwidth": 2,
            "linecolor": "white",
            "showbackground": true,
            "ticks": "",
            "zerolinecolor": "white"
           },
           "zaxis": {
            "backgroundcolor": "#E5ECF6",
            "gridcolor": "white",
            "gridwidth": 2,
            "linecolor": "white",
            "showbackground": true,
            "ticks": "",
            "zerolinecolor": "white"
           }
          },
          "shapedefaults": {
           "line": {
            "color": "#2a3f5f"
           }
          },
          "ternary": {
           "aaxis": {
            "gridcolor": "white",
            "linecolor": "white",
            "ticks": ""
           },
           "baxis": {
            "gridcolor": "white",
            "linecolor": "white",
            "ticks": ""
           },
           "bgcolor": "#E5ECF6",
           "caxis": {
            "gridcolor": "white",
            "linecolor": "white",
            "ticks": ""
           }
          },
          "title": {
           "x": 0.05
          },
          "xaxis": {
           "automargin": true,
           "gridcolor": "white",
           "linecolor": "white",
           "ticks": "",
           "title": {
            "standoff": 15
           },
           "zerolinecolor": "white",
           "zerolinewidth": 2
          },
          "yaxis": {
           "automargin": true,
           "gridcolor": "white",
           "linecolor": "white",
           "ticks": "",
           "title": {
            "standoff": 15
           },
           "zerolinecolor": "white",
           "zerolinewidth": 2
          }
         }
        }
       }
      },
      "text/html": [
       "<div>\n",
       "        \n",
       "        \n",
       "            <div id=\"3c10a28c-27cd-4adc-a7ff-68b49cee74d6\" class=\"plotly-graph-div\" style=\"height:525px; width:100%;\"></div>\n",
       "            <script type=\"text/javascript\">\n",
       "                require([\"plotly\"], function(Plotly) {\n",
       "                    window.PLOTLYENV=window.PLOTLYENV || {};\n",
       "                    \n",
       "                if (document.getElementById(\"3c10a28c-27cd-4adc-a7ff-68b49cee74d6\")) {\n",
       "                    Plotly.newPlot(\n",
       "                        '3c10a28c-27cd-4adc-a7ff-68b49cee74d6',\n",
       "                        [{\"mode\": \"markers\", \"type\": \"scatter3d\", \"x\": [6.153219, 6.167906, 6.124365, 6.076445, 6.047569, 6.050437, 5.55717, 6.194268, 5.909404, 6.525204, 7.601621, 7.991057, 7.274458, 7.026556, 6.767757, 6.608637, 6.45789, 7.052308, 7.001959, 6.957069, 6.917025, 7.155454, 7.112549, 7.039124, 6.999399, 7.220832, 7.194921, 7.114051, 7.07443, 7.250801, 7.209026, 7.147851, 7.130932, 5.583147, 4.542111, 4.287223, 4.558865, 4.559628, 4.575706, 4.596231, 4.583796, 4.57992, 4.568944, 4.606349, 4.634891, 4.63313, 4.634829, 4.675444, 4.693964, 4.734079, 4.750819, 4.775474, 4.790291, 4.821313, 5.079157, 5.22526, 5.381655, 7.089455, 6.809802, 6.726308, 6.823116, 7.100019, 5.236005, 5.472801, 5.594942, 5.532403, 5.244875], \"y\": [0.018943, -0.025945, -0.16931, -0.342613, -0.362063, -0.658545, -1.362143, -1.500028, -0.690562, -0.383003, -0.2561, 0.096868, -2.082882, -2.37519, -2.668946, -2.907076, -3.120408, -2.938794, -3.234374, -3.411536, -3.596773, -2.858712, -3.134773, -3.358544, -3.590484, -2.725873, -2.944247, -3.177974, -3.372818, -2.528894, -2.770123, -2.91302, -3.066295, -0.276515, 0.075104, 0.384788, -1.802316, -2.241998, -2.447311, -2.594644, -2.756393, -2.433116, -2.640473, -2.873155, -3.092216, -2.574008, -2.829834, -3.089091, -3.328633, -2.672868, -2.977496, -3.165489, -3.364742, -2.103528, -2.420439, -2.675536, -2.903816, 0.221196, -0.666713, 0.56953, -0.628721, -1.591744, 0.332185, -0.730831, 0.369401, -0.838981, -1.814133], \"z\": [10.003007, 11.020425, 12.007993, 12.912599, 14.710966, 15.530602, 16.284142, 16.320042, 17.238766, 14.16993, 14.235605, 11.757773, 10.211503, 10.260172, 10.234882, 10.167356, 10.164101, 9.912082, 9.67842, 9.52782, 9.343624, 9.70763, 9.50658, 9.299407, 9.109141, 9.582631, 9.387867, 9.1696, 8.997093, 9.477865, 9.260338, 9.114578, 8.969986, 14.134555, 14.16211, 11.646082, 10.000063, 9.289701, 9.09613, 8.957431, 8.801682, 9.387747, 9.207751, 9.003245, 8.824156, 9.511313, 9.32372, 9.10329, 8.927354, 9.704129, 9.467343, 9.317102, 9.144823, 10.053045, 10.026741, 9.959538, 9.923346, 9.297681, 5.022099, 0.877642, 0.031799, -0.00512, 9.330231, 5.010607, 0.853548, 0.079452, 0.038985]}],\n",
       "                        {\"template\": {\"data\": {\"bar\": [{\"error_x\": {\"color\": \"#2a3f5f\"}, \"error_y\": {\"color\": \"#2a3f5f\"}, \"marker\": {\"line\": {\"color\": \"#E5ECF6\", \"width\": 0.5}}, \"type\": \"bar\"}], \"barpolar\": [{\"marker\": {\"line\": {\"color\": \"#E5ECF6\", \"width\": 0.5}}, \"type\": \"barpolar\"}], \"carpet\": [{\"aaxis\": {\"endlinecolor\": \"#2a3f5f\", \"gridcolor\": \"white\", \"linecolor\": \"white\", \"minorgridcolor\": \"white\", \"startlinecolor\": \"#2a3f5f\"}, \"baxis\": {\"endlinecolor\": \"#2a3f5f\", \"gridcolor\": \"white\", \"linecolor\": \"white\", \"minorgridcolor\": \"white\", \"startlinecolor\": \"#2a3f5f\"}, \"type\": \"carpet\"}], \"choropleth\": [{\"colorbar\": {\"outlinewidth\": 0, \"ticks\": \"\"}, \"type\": \"choropleth\"}], \"contour\": [{\"colorbar\": {\"outlinewidth\": 0, \"ticks\": \"\"}, \"colorscale\": [[0.0, \"#0d0887\"], [0.1111111111111111, \"#46039f\"], [0.2222222222222222, \"#7201a8\"], [0.3333333333333333, \"#9c179e\"], [0.4444444444444444, \"#bd3786\"], [0.5555555555555556, \"#d8576b\"], [0.6666666666666666, \"#ed7953\"], [0.7777777777777778, \"#fb9f3a\"], [0.8888888888888888, \"#fdca26\"], [1.0, \"#f0f921\"]], \"type\": \"contour\"}], \"contourcarpet\": [{\"colorbar\": {\"outlinewidth\": 0, \"ticks\": \"\"}, \"type\": \"contourcarpet\"}], \"heatmap\": [{\"colorbar\": {\"outlinewidth\": 0, \"ticks\": \"\"}, \"colorscale\": [[0.0, \"#0d0887\"], [0.1111111111111111, \"#46039f\"], [0.2222222222222222, \"#7201a8\"], [0.3333333333333333, \"#9c179e\"], [0.4444444444444444, \"#bd3786\"], [0.5555555555555556, \"#d8576b\"], [0.6666666666666666, \"#ed7953\"], [0.7777777777777778, \"#fb9f3a\"], [0.8888888888888888, \"#fdca26\"], [1.0, \"#f0f921\"]], \"type\": \"heatmap\"}], \"heatmapgl\": [{\"colorbar\": {\"outlinewidth\": 0, \"ticks\": \"\"}, \"colorscale\": [[0.0, \"#0d0887\"], [0.1111111111111111, \"#46039f\"], [0.2222222222222222, \"#7201a8\"], [0.3333333333333333, \"#9c179e\"], [0.4444444444444444, \"#bd3786\"], [0.5555555555555556, \"#d8576b\"], [0.6666666666666666, \"#ed7953\"], [0.7777777777777778, \"#fb9f3a\"], [0.8888888888888888, \"#fdca26\"], [1.0, \"#f0f921\"]], \"type\": \"heatmapgl\"}], \"histogram\": [{\"marker\": {\"colorbar\": {\"outlinewidth\": 0, \"ticks\": \"\"}}, \"type\": \"histogram\"}], \"histogram2d\": [{\"colorbar\": {\"outlinewidth\": 0, \"ticks\": \"\"}, \"colorscale\": [[0.0, \"#0d0887\"], [0.1111111111111111, \"#46039f\"], [0.2222222222222222, \"#7201a8\"], [0.3333333333333333, \"#9c179e\"], [0.4444444444444444, \"#bd3786\"], [0.5555555555555556, \"#d8576b\"], [0.6666666666666666, \"#ed7953\"], [0.7777777777777778, \"#fb9f3a\"], [0.8888888888888888, \"#fdca26\"], [1.0, \"#f0f921\"]], \"type\": \"histogram2d\"}], \"histogram2dcontour\": [{\"colorbar\": {\"outlinewidth\": 0, \"ticks\": \"\"}, \"colorscale\": [[0.0, \"#0d0887\"], [0.1111111111111111, \"#46039f\"], [0.2222222222222222, \"#7201a8\"], [0.3333333333333333, \"#9c179e\"], [0.4444444444444444, \"#bd3786\"], [0.5555555555555556, \"#d8576b\"], [0.6666666666666666, \"#ed7953\"], [0.7777777777777778, \"#fb9f3a\"], [0.8888888888888888, \"#fdca26\"], [1.0, \"#f0f921\"]], \"type\": \"histogram2dcontour\"}], \"mesh3d\": [{\"colorbar\": {\"outlinewidth\": 0, \"ticks\": \"\"}, \"type\": \"mesh3d\"}], \"parcoords\": [{\"line\": {\"colorbar\": {\"outlinewidth\": 0, \"ticks\": \"\"}}, \"type\": \"parcoords\"}], \"pie\": [{\"automargin\": true, \"type\": \"pie\"}], \"scatter\": [{\"marker\": {\"colorbar\": {\"outlinewidth\": 0, \"ticks\": \"\"}}, \"type\": \"scatter\"}], \"scatter3d\": [{\"line\": {\"colorbar\": {\"outlinewidth\": 0, \"ticks\": \"\"}}, \"marker\": {\"colorbar\": {\"outlinewidth\": 0, \"ticks\": \"\"}}, \"type\": \"scatter3d\"}], \"scattercarpet\": [{\"marker\": {\"colorbar\": {\"outlinewidth\": 0, \"ticks\": \"\"}}, \"type\": \"scattercarpet\"}], \"scattergeo\": [{\"marker\": {\"colorbar\": {\"outlinewidth\": 0, \"ticks\": \"\"}}, \"type\": \"scattergeo\"}], \"scattergl\": [{\"marker\": {\"colorbar\": {\"outlinewidth\": 0, \"ticks\": \"\"}}, \"type\": \"scattergl\"}], \"scattermapbox\": [{\"marker\": {\"colorbar\": {\"outlinewidth\": 0, \"ticks\": \"\"}}, \"type\": \"scattermapbox\"}], \"scatterpolar\": [{\"marker\": {\"colorbar\": {\"outlinewidth\": 0, \"ticks\": \"\"}}, \"type\": \"scatterpolar\"}], \"scatterpolargl\": [{\"marker\": {\"colorbar\": {\"outlinewidth\": 0, \"ticks\": \"\"}}, \"type\": \"scatterpolargl\"}], \"scatterternary\": [{\"marker\": {\"colorbar\": {\"outlinewidth\": 0, \"ticks\": \"\"}}, \"type\": \"scatterternary\"}], \"surface\": [{\"colorbar\": {\"outlinewidth\": 0, \"ticks\": \"\"}, \"colorscale\": [[0.0, \"#0d0887\"], [0.1111111111111111, \"#46039f\"], [0.2222222222222222, \"#7201a8\"], [0.3333333333333333, \"#9c179e\"], [0.4444444444444444, \"#bd3786\"], [0.5555555555555556, \"#d8576b\"], [0.6666666666666666, \"#ed7953\"], [0.7777777777777778, \"#fb9f3a\"], [0.8888888888888888, \"#fdca26\"], [1.0, \"#f0f921\"]], \"type\": \"surface\"}], \"table\": [{\"cells\": {\"fill\": {\"color\": \"#EBF0F8\"}, \"line\": {\"color\": \"white\"}}, \"header\": {\"fill\": {\"color\": \"#C8D4E3\"}, \"line\": {\"color\": \"white\"}}, \"type\": \"table\"}]}, \"layout\": {\"annotationdefaults\": {\"arrowcolor\": \"#2a3f5f\", \"arrowhead\": 0, \"arrowwidth\": 1}, \"coloraxis\": {\"colorbar\": {\"outlinewidth\": 0, \"ticks\": \"\"}}, \"colorscale\": {\"diverging\": [[0, \"#8e0152\"], [0.1, \"#c51b7d\"], [0.2, \"#de77ae\"], [0.3, \"#f1b6da\"], [0.4, \"#fde0ef\"], [0.5, \"#f7f7f7\"], [0.6, \"#e6f5d0\"], [0.7, \"#b8e186\"], [0.8, \"#7fbc41\"], [0.9, \"#4d9221\"], [1, \"#276419\"]], \"sequential\": [[0.0, \"#0d0887\"], [0.1111111111111111, \"#46039f\"], [0.2222222222222222, \"#7201a8\"], [0.3333333333333333, \"#9c179e\"], [0.4444444444444444, \"#bd3786\"], [0.5555555555555556, \"#d8576b\"], [0.6666666666666666, \"#ed7953\"], [0.7777777777777778, \"#fb9f3a\"], [0.8888888888888888, \"#fdca26\"], [1.0, \"#f0f921\"]], \"sequentialminus\": [[0.0, \"#0d0887\"], [0.1111111111111111, \"#46039f\"], [0.2222222222222222, \"#7201a8\"], [0.3333333333333333, \"#9c179e\"], [0.4444444444444444, \"#bd3786\"], [0.5555555555555556, \"#d8576b\"], [0.6666666666666666, \"#ed7953\"], [0.7777777777777778, \"#fb9f3a\"], [0.8888888888888888, \"#fdca26\"], [1.0, \"#f0f921\"]]}, \"colorway\": [\"#636efa\", \"#EF553B\", \"#00cc96\", \"#ab63fa\", \"#FFA15A\", \"#19d3f3\", \"#FF6692\", \"#B6E880\", \"#FF97FF\", \"#FECB52\"], \"font\": {\"color\": \"#2a3f5f\"}, \"geo\": {\"bgcolor\": \"white\", \"lakecolor\": \"white\", \"landcolor\": \"#E5ECF6\", \"showlakes\": true, \"showland\": true, \"subunitcolor\": \"white\"}, \"hoverlabel\": {\"align\": \"left\"}, \"hovermode\": \"closest\", \"mapbox\": {\"style\": \"light\"}, \"paper_bgcolor\": \"white\", \"plot_bgcolor\": \"#E5ECF6\", \"polar\": {\"angularaxis\": {\"gridcolor\": \"white\", \"linecolor\": \"white\", \"ticks\": \"\"}, \"bgcolor\": \"#E5ECF6\", \"radialaxis\": {\"gridcolor\": \"white\", \"linecolor\": \"white\", \"ticks\": \"\"}}, \"scene\": {\"xaxis\": {\"backgroundcolor\": \"#E5ECF6\", \"gridcolor\": \"white\", \"gridwidth\": 2, \"linecolor\": \"white\", \"showbackground\": true, \"ticks\": \"\", \"zerolinecolor\": \"white\"}, \"yaxis\": {\"backgroundcolor\": \"#E5ECF6\", \"gridcolor\": \"white\", \"gridwidth\": 2, \"linecolor\": \"white\", \"showbackground\": true, \"ticks\": \"\", \"zerolinecolor\": \"white\"}, \"zaxis\": {\"backgroundcolor\": \"#E5ECF6\", \"gridcolor\": \"white\", \"gridwidth\": 2, \"linecolor\": \"white\", \"showbackground\": true, \"ticks\": \"\", \"zerolinecolor\": \"white\"}}, \"shapedefaults\": {\"line\": {\"color\": \"#2a3f5f\"}}, \"ternary\": {\"aaxis\": {\"gridcolor\": \"white\", \"linecolor\": \"white\", \"ticks\": \"\"}, \"baxis\": {\"gridcolor\": \"white\", \"linecolor\": \"white\", \"ticks\": \"\"}, \"bgcolor\": \"#E5ECF6\", \"caxis\": {\"gridcolor\": \"white\", \"linecolor\": \"white\", \"ticks\": \"\"}}, \"title\": {\"x\": 0.05}, \"xaxis\": {\"automargin\": true, \"gridcolor\": \"white\", \"linecolor\": \"white\", \"ticks\": \"\", \"title\": {\"standoff\": 15}, \"zerolinecolor\": \"white\", \"zerolinewidth\": 2}, \"yaxis\": {\"automargin\": true, \"gridcolor\": \"white\", \"linecolor\": \"white\", \"ticks\": \"\", \"title\": {\"standoff\": 15}, \"zerolinecolor\": \"white\", \"zerolinewidth\": 2}}}},\n",
       "                        {\"responsive\": true}\n",
       "                    ).then(function(){\n",
       "                            \n",
       "var gd = document.getElementById('3c10a28c-27cd-4adc-a7ff-68b49cee74d6');\n",
       "var x = new MutationObserver(function (mutations, observer) {{\n",
       "        var display = window.getComputedStyle(gd).display;\n",
       "        if (!display || display === 'none') {{\n",
       "            console.log([gd, 'removed!']);\n",
       "            Plotly.purge(gd);\n",
       "            observer.disconnect();\n",
       "        }}\n",
       "}});\n",
       "\n",
       "// Listen for the removal of the full notebook cells\n",
       "var notebookContainer = gd.closest('#notebook-container');\n",
       "if (notebookContainer) {{\n",
       "    x.observe(notebookContainer, {childList: true});\n",
       "}}\n",
       "\n",
       "// Listen for the clearing of the current output cell\n",
       "var outputEl = gd.closest('.output');\n",
       "if (outputEl) {{\n",
       "    x.observe(outputEl, {childList: true});\n",
       "}}\n",
       "\n",
       "                        })\n",
       "                };\n",
       "                });\n",
       "            </script>\n",
       "        </div>"
      ]
     },
     "metadata": {},
     "output_type": "display_data"
    }
   ],
   "source": [
    "if skeletons is not None:\n",
    "    display_skeleton3d(skeletons, 0, 0)"
   ]
  },
  {
   "cell_type": "markdown",
   "metadata": {},
   "source": [
    "# Transform Optical Flow"
   ]
  },
  {
   "cell_type": "code",
   "execution_count": 8,
   "metadata": {},
   "outputs": [
    {
     "data": {
      "image/png": "[encoded data removed]",
      "text/plain": [
       "<Figure size 1728x1152 with 5 Axes>"
      ]
     },
     "metadata": {
      "needs_background": "light"
     },
     "output_type": "display_data"
    }
   ],
   "source": [
    "def transf_flow(rgb, flow):\n",
    "    '''Ex use: transf_flow(rgbs[0,0,...], flows[0,1,...]) transforms rgbs[0,0,...] to rgbs[0,1,...]'''\n",
    "    h, w = flow.shape[-3:-1]\n",
    "    flow_cp = np.zeros_like(flow)\n",
    "    flow_cp[...,0] = (flow[...,0]+np.arange(w))\n",
    "    flow_cp[...,1] = (-flow[...,1]+np.arange(h)[:,np.newaxis])\n",
    "    res = cv2.remap(rgb, flow_cp, None, cv2.INTER_LINEAR) * (flow[...,0:1]!=0)\n",
    "    return res\n",
    "\n",
    "if flows is not None:\n",
    "    id=5\n",
    "    res = transf_flow(rgbs[0,id-1,...], flows[0,id,...])\n",
    "    f, axs = plt.subplots(1,5, figsize=(24,16))\n",
    "    axs[0].imshow(rgbs[0,id-1,...])\n",
    "    axs[0].set_title(f'Frame {id-1}',fontsize=20)\n",
    "    axs[1].imshow(rgbs[0,id,...])\n",
    "    axs[1].set_title(f'Frame {id}',fontsize=20)\n",
    "    axs[2].imshow(res)\n",
    "    axs[2].set_title(f'Frame {id} estim',fontsize=20)\n",
    "    axs[3].imshow(flows[0,id,...,0])\n",
    "    axs[3].set_title('Flow u',fontsize=20)\n",
    "    axs[4].imshow(flows[0,id,...,1])\n",
    "    axs[4].set_title('Flow v',fontsize=20)"
   ]
  },
  {
   "cell_type": "code",
   "execution_count": null,
   "metadata": {},
   "outputs": [],
   "source": []
  }
 ],
 "metadata": {
  "kernelspec": {
   "display_name": "Python 3",
   "language": "python",
   "name": "python3"
  },
  "language_info": {
   "codemirror_mode": {
    "name": "ipython",
    "version": 3
   },
   "file_extension": ".py",
   "mimetype": "text/x-python",
   "name": "python",
   "nbconvert_exporter": "python",
   "pygments_lexer": "ipython3",
   "version": "3.6.7"
  }
 },
 "nbformat": 4,
 "nbformat_minor": 2
}
