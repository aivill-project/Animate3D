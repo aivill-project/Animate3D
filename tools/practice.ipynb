{
 "cells": [
  {
   "cell_type": "code",
   "execution_count": 1,
   "metadata": {},
   "outputs": [],
   "source": [
    "import bpy\n",
    "import os\n",
    "import time\n",
    "import sys\n",
    "import json\n",
    "from mathutils import Vector\n",
    "import numpy as np \n",
    "from glob import glob"
   ]
  },
  {
   "cell_type": "code",
   "execution_count": null,
   "metadata": {},
   "outputs": [],
   "source": []
  },
  {
   "cell_type": "markdown",
   "metadata": {},
   "source": [
    "# convert fbx to npy "
   ]
  },
  {
   "cell_type": "code",
   "execution_count": 8,
   "metadata": {},
   "outputs": [],
   "source": [
    "NPY_PATH = r'C:\\Users\\bk221\\OneDrive\\C Documents\\GitHub\\Animate3D\\tools\\json2npy\\Ch46_nonPBR\\Ch46_nonPBR.npy'\n",
    "# load npy file\n",
    "npy_file = np.load(NPY_PATH)\n",
    "npy_file.shape"
   ]
  }
 ],
 "metadata": {
  "kernelspec": {
   "display_name": "Python 3.8.13 ('hu_pose')",
   "language": "python",
   "name": "python3"
  },
  "language_info": {
   "codemirror_mode": {
    "name": "ipython",
    "version": 3
   },
   "file_extension": ".py",
   "mimetype": "text/x-python",
   "name": "python",
   "nbconvert_exporter": "python",
   "pygments_lexer": "ipython3",
   "version": "3.8.13"
  },
  "orig_nbformat": 4,
  "vscode": {
   "interpreter": {
    "hash": "82bc337b5751687a8cdf0080e262216ae247151f2b92f1acf6a1fb1f8c5572a6"
   }
  }
 },
 "nbformat": 4,
 "nbformat_minor": 2
}
